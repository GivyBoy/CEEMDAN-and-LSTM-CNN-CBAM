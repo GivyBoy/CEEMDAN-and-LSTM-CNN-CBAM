{
 "cells": [
  {
   "cell_type": "code",
   "execution_count": 2,
   "id": "5fb7dd72",
   "metadata": {},
   "outputs": [],
   "source": [
    "from keras.models import Sequential\n",
    "from keras.layers import Conv1D, Add, Activation, Dropout, Dense, LSTM, Flatten, MaxPooling1D\n",
    "import tensorflow as tf\n",
    "\n",
    "from sklearn.preprocessing import MinMaxScaler\n",
    "from sklearn.metrics import mean_squared_error\n",
    "\n",
    "from PyEMD import CEEMDAN\n",
    "\n",
    "import pandas as pd\n",
    "import numpy as np\n",
    "import matplotlib.pyplot as plt\n",
    "import yfinance as yf\n",
    "import random \n",
    "import warnings\n",
    "warnings.filterwarnings('ignore')\n",
    "\n",
    "random.seed(17)"
   ]
  },
  {
   "cell_type": "code",
   "execution_count": 3,
   "id": "778ad464",
   "metadata": {},
   "outputs": [],
   "source": [
    "LOOK_BACK = 10\n",
    "SPLIT = 0.8\n",
    "EPOCHS = 100\n",
    "BATCH_SIZE = 100"
   ]
  },
  {
   "cell_type": "code",
   "execution_count": 4,
   "id": "519fe3d9",
   "metadata": {},
   "outputs": [
    {
     "name": "stdout",
     "output_type": "stream",
     "text": [
      "Num GPUs Available:  1\n"
     ]
    }
   ],
   "source": [
    "print(\"Num GPUs Available: \", len(tf.config.list_physical_devices('GPU')))"
   ]
  },
  {
   "cell_type": "code",
   "execution_count": 5,
   "id": "5a509c08",
   "metadata": {},
   "outputs": [
    {
     "name": "stdout",
     "output_type": "stream",
     "text": [
      "[*********************100%***********************]  1 of 1 completed\n"
     ]
    }
   ],
   "source": [
    "data = yf.download(\"^GSPC\", start=\"2000-01-01\")[[\"Adj Close\"]]\n",
    "data.columns = [\"close\"]"
   ]
  },
  {
   "cell_type": "code",
   "execution_count": 6,
   "id": "d772ef8f",
   "metadata": {},
   "outputs": [],
   "source": [
    "def get_CEEMD_residue(data: pd.DataFrame):\n",
    "    \"\"\"\n",
    "    Complete Ensemble EMD with Adaptive Noise (CEEMDAN) performs an EEMD\n",
    "    The difference is that the information about the noise is shared among all workers\n",
    "\n",
    "    :returns:\n",
    "    IMFs : numpy array\n",
    "        All the Intrinsic Mode Functions that make up the original stock price\n",
    "    residue : numpy array\n",
    "        The residue from the recently analyzed stock price\n",
    "    \"\"\"\n",
    "    \n",
    "    data_np = data.to_numpy()\n",
    "    \n",
    "    ceemd = CEEMDAN()\n",
    "    ceemd.extrema_detection=\"parabol\"\n",
    "    ceemd.ceemdan(data_np)\n",
    "    IMFs, residue = ceemd.get_imfs_and_residue()\n",
    "\n",
    "    nIMFs = IMFs.shape[0]\n",
    "    \n",
    "    plt.figure(figsize=(18,12))\n",
    "    plt.subplot(nIMFs + 2, 1, 1)\n",
    "\n",
    "    plt.plot(data, 'r')\n",
    "    plt.ylabel(\"S&P500\")\n",
    "\n",
    "    plt.subplot(nIMFs + 2, 1, nIMFs + 2)\n",
    "    plt.plot(data.index, residue)\n",
    "    plt.ylabel(\"Residue\")\n",
    "\n",
    "    for n in range(nIMFs):\n",
    "        plt.subplot(nIMFs + 2, 1, n + 2)\n",
    "        plt.plot(data.index, IMFs[n], 'g')\n",
    "        plt.ylabel(\"eIMF %i\" % (n + 1))\n",
    "        plt.locator_params(axis='y', nbins=4)\n",
    " \n",
    "    plt.tight_layout()\n",
    "    plt.show()\n",
    "    \n",
    "    return IMFs, residue, nIMFs\n",
    "\n",
    "def plot_IMFs(IMFs: np.ndarray, residue: np.ndarray, num_IMFs: int, data: pd.DataFrame):\n",
    "    \"\"\"\n",
    "    This function aims to reconstruct the Time Series using the IMFs\n",
    "\n",
    "    :param IMFs: The IMFs returned from using any of the decomposition functions above\n",
    "    :param residue: The residue returned from using any of the decomposition functions above\n",
    "    :param num_IMFs: The number of IMFs you want to reconstruct your data. A value of 2 means the last two IMFs\n",
    "    :return: None\n",
    "    \"\"\"\n",
    "\n",
    "    sum_IMFs = sum(IMFs[-num_IMFs:])\n",
    "    sum_IMFs += residue\n",
    "\n",
    "    plt.figure(figsize=(12, 10))\n",
    "    plt.plot(data.index, data, label=\"Stock Price\")\n",
    "    plt.plot(data.index, sum_IMFs, label=f\"Last {num_IMFs} IMFs\")\n",
    "    plt.legend(loc=\"upper left\")\n",
    "    plt.show()"
   ]
  },
  {
   "cell_type": "code",
   "execution_count": 7,
   "id": "c52704b9",
   "metadata": {},
   "outputs": [],
   "source": [
    "def create_dataset(dataset):\n",
    "    dataX, dataY = [], []\n",
    "    \n",
    "    for i in range(len(dataset) - LOOK_BACK - 1):\n",
    "        \n",
    "        look_back_data = dataset[i:(i + LOOK_BACK), 0]\n",
    "        dataX.append(look_back_data)\n",
    "        dataY.append(dataset[i + LOOK_BACK, 0])\n",
    "        \n",
    "    return np.array(dataX), np.array(dataY)\n",
    "\n",
    "def LSTM_CNN_CBAM(dataset, layer = 128):\n",
    "    \n",
    "    dataset = dataset.astype('float32')\n",
    "    dataset = np.reshape(dataset, (-1, 1))\n",
    "  \n",
    "   # Normalize the data -- using Min and Max values in each subsequence to normalize the values\n",
    "    scaler = MinMaxScaler()\n",
    "    dataset = scaler.fit_transform(dataset)\n",
    "  \n",
    "   # Split data into training and testing set\n",
    "    train_size = int(len(dataset) * SPLIT)\n",
    "    test_size = len(dataset) - train_size\n",
    "    train, test = dataset[:train_size, :], dataset[train_size:, :]\n",
    "  \n",
    "    trainX, trainY = create_dataset(train)\n",
    "    testX, testY = create_dataset(test)\n",
    "\n",
    "    trainX = np.reshape(trainX, (trainX.shape[0], 1, trainX.shape[1]))\n",
    "    testX = np.reshape(testX, (testX.shape[0], 1, testX.shape[1]))\n",
    "  \n",
    "  # create and fit the LSTM-CNN-CBAM network\n",
    "    model = Sequential()\n",
    "    model.add(LSTM(layer, input_shape=(1, LOOK_BACK), return_sequences=True))\n",
    "    model.add(Conv1D(filters = 512, kernel_size = 1, activation='relu', input_shape = (1, LOOK_BACK)))\n",
    "    model.add(MaxPooling1D(pool_size = 1))\n",
    "    model.add(Dropout(0.2))\n",
    "    model.add(Activation('relu'))\n",
    "    model.add(Flatten())\n",
    "    model.add(Dense(1))\n",
    "    model.compile(loss='mse', optimizer='adam', metrics=['accuracy'])\n",
    "    model.fit(trainX, trainY, epochs = EPOCHS, batch_size = BATCH_SIZE, verbose = 1, validation_split = 0.1)\n",
    "\n",
    "  # make predictions\n",
    "    trainPredict = model.predict(trainX)\n",
    "    testPredict = model.predict(testX)\n",
    "\n",
    "  # invert predictions\n",
    "    trainPredict = scaler.inverse_transform(trainPredict)\n",
    "    trainY = scaler.inverse_transform([trainY])\n",
    "    testPredict = scaler.inverse_transform(testPredict)\n",
    "    testY = scaler.inverse_transform([testY])\n",
    "    \n",
    "    testing_error = np.sqrt(mean_squared_error(testY[0], testPredict[:,0]))\n",
    "\n",
    "    return testPredict, testY, testing_error\n",
    "\n",
    "def run_model(IMFs):\n",
    "    \n",
    "    IMF_predict_list = []\n",
    "    error_list = []\n",
    "\n",
    "    for i, IMF in enumerate(IMFs):\n",
    "\n",
    "        print(f\"IMF number {i+1}\")\n",
    "        \n",
    "        IMF_predict, IMF_test, testing_error = LSTM_CNN_CBAM(IMF, layer = 128)\n",
    "        error_list.append(testing_error)\n",
    "        IMF_predict_list.append(IMF_predict)\n",
    "        \n",
    "    return IMF_predict_list, error_list\n",
    "\n",
    "\n",
    "def visualize_results(IMF_predict_list, error_list):\n",
    "        \n",
    "    for i, v in enumerate(IMF_predict_list):\n",
    "        \n",
    "        IMF_predict_list[i] = v[:, 0]\n",
    "    \n",
    "    final_prediction = []\n",
    "    for i in range(len(IMF_predict_list[0])):\n",
    "\n",
    "        element = 0 \n",
    "        \n",
    "        for j in range(len(IMF_predict_list)):\n",
    "            \n",
    "            element += IMF_predict_list[j][i]\n",
    "            \n",
    "        final_prediction.append(element)\n",
    "        \n",
    "    data_plot = data.close.astype(\"float32\")\n",
    "    data_plot = np.reshape(data_plot.to_numpy(), (-1, 1))\n",
    "\n",
    "    train_size = int(len(data_plot) * SPLIT)\n",
    "    test_size = len(data_plot) - train_size\n",
    "    data_plot_train, data_plot_test = data_plot[:train_size], data_plot[train_size:]\n",
    "\n",
    "    data_plot_testX, data_plot_testY = create_dataset(data_plot_test)\n",
    "\n",
    "    # Calculate the RMSE\n",
    "    np.sqrt(mean_squared_error(data_plot_testY.tolist(), final_prediction))\n",
    "    \n",
    "    plt.figure(figsize=(18,12))\n",
    "\n",
    "    # plot lines\n",
    "    plt.plot(data.index[train_size + LOOK_BACK + 1: ], final_prediction, label = \"Predicted Value\")\n",
    "    plt.plot(data.index[train_size + LOOK_BACK + 1: ], data_plot_testY.tolist(), label = \"Actual Value\")\n",
    "    plt.legend()\n",
    "    plt.show()"
   ]
  },
  {
   "cell_type": "code",
   "execution_count": null,
   "id": "e8436fc8",
   "metadata": {},
   "outputs": [],
   "source": [
    "IMFs, residue, n = get_CEEMD_residue(data[\"close\"])"
   ]
  },
  {
   "cell_type": "code",
   "execution_count": null,
   "id": "9a033f88",
   "metadata": {
    "scrolled": true
   },
   "outputs": [],
   "source": [
    "IMF_predict_list, error_list = run_model(IMFs);"
   ]
  },
  {
   "cell_type": "code",
   "execution_count": null,
   "id": "309d634b",
   "metadata": {},
   "outputs": [],
   "source": [
    "visualize_results(IMF_predict_list, error_list)"
   ]
  },
  {
   "cell_type": "code",
   "execution_count": null,
   "id": "5de7c141",
   "metadata": {},
   "outputs": [],
   "source": []
  }
 ],
 "metadata": {
  "kernelspec": {
   "display_name": "Python 3 (ipykernel)",
   "language": "python",
   "name": "python3"
  },
  "language_info": {
   "codemirror_mode": {
    "name": "ipython",
    "version": 3
   },
   "file_extension": ".py",
   "mimetype": "text/x-python",
   "name": "python",
   "nbconvert_exporter": "python",
   "pygments_lexer": "ipython3",
   "version": "3.9.12"
  }
 },
 "nbformat": 4,
 "nbformat_minor": 5
}
